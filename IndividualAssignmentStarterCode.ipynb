{
 "cells": [
  {
   "cell_type": "markdown",
   "id": "072e6c27-84d1-4120-88d6-493c9cf7a1c4",
   "metadata": {},
   "source": [
    "# Assignment Starter Code"
   ]
  },
  {
   "cell_type": "markdown",
   "id": "951fd4f2-7bbc-42e1-9c8b-73364e47ab56",
   "metadata": {},
   "source": [
    "# Read structural data per district"
   ]
  },
  {
   "cell_type": "code",
   "execution_count": 2,
   "id": "838a7178-8a14-4494-af19-184b5aafdc9d",
   "metadata": {},
   "outputs": [
    {
     "name": "stdout",
     "output_type": "stream",
     "text": [
      "Requirement already satisfied: openpyxl in /opt/anaconda3/lib/python3.13/site-packages (3.1.5)\n",
      "Requirement already satisfied: et_xmlfile in /opt/anaconda3/lib/python3.13/site-packages (from openpyxl) (1.1.0)\n",
      "\n",
      "\u001b[1m[\u001b[0m\u001b[34;49mnotice\u001b[0m\u001b[1;39;49m]\u001b[0m\u001b[39;49m A new release of pip is available: \u001b[0m\u001b[31;49m25.2\u001b[0m\u001b[39;49m -> \u001b[0m\u001b[32;49m25.3\u001b[0m\n",
      "\u001b[1m[\u001b[0m\u001b[34;49mnotice\u001b[0m\u001b[1;39;49m]\u001b[0m\u001b[39;49m To update, run: \u001b[0m\u001b[32;49mpip install --upgrade pip\u001b[0m\n"
     ]
    }
   ],
   "source": [
    "!pip install openpyxl"
   ]
  },
  {
   "cell_type": "code",
   "execution_count": 3,
   "id": "fad88843-6dcf-4593-9e9a-75c985adaebf",
   "metadata": {},
   "outputs": [
    {
     "name": "stdout",
     "output_type": "stream",
     "text": [
      "Requirement already satisfied: pip in /opt/anaconda3/lib/python3.13/site-packages (25.2)\n",
      "Collecting pip\n",
      "  Downloading pip-25.3-py3-none-any.whl.metadata (4.7 kB)\n",
      "Downloading pip-25.3-py3-none-any.whl (1.8 MB)\n",
      "\u001b[2K   \u001b[38;2;114;156;31m━━━━━━━━━━━━━━━━━━━━━━━━━━━━━━━━━━━━━━━━\u001b[0m \u001b[32m1.8/1.8 MB\u001b[0m \u001b[31m24.0 MB/s\u001b[0m  \u001b[33m0:00:00\u001b[0m\n",
      "Installing collected packages: pip\n",
      "  Attempting uninstall: pip\n",
      "    Found existing installation: pip 25.2\n",
      "    Uninstalling pip-25.2:\n",
      "      Successfully uninstalled pip-25.2\n",
      "Successfully installed pip-25.3\n",
      "Note: you may need to restart the kernel to use updated packages.\n"
     ]
    }
   ],
   "source": [
    "pip install --upgrade pip"
   ]
  },
  {
   "cell_type": "code",
   "execution_count": 5,
   "id": "680a3846-2b26-4a3e-8499-3610a7bc03d0",
   "metadata": {},
   "outputs": [
    {
     "name": "stdout",
     "output_type": "stream",
     "text": [
      "                 Land District                    Name  Municipalities  \\\n",
      "0  Schleswig-Holstein    01001        Flensburg, Stadt               1   \n",
      "1  Schleswig-Holstein    01002  Kiel, Landeshauptstadt               1   \n",
      "2  Schleswig-Holstein    01003      Lübeck, Hansestadt               1   \n",
      "3  Schleswig-Holstein    01004       Neumünster, Stadt               1   \n",
      "4  Schleswig-Holstein    01051            Dithmarschen             116   \n",
      "\n",
      "   Area in km2  Population on 31.12.2022 - Total (in 1000)  \\\n",
      "0         56.7                                        92.6   \n",
      "1        118.7                                       247.7   \n",
      "2        214.2                                       218.1   \n",
      "3         71.7                                        79.5   \n",
      "4       1428.2                                       135.3   \n",
      "\n",
      "   Population on 31.12.2022 - German (in 1000)  \\\n",
      "0                                         75.5   \n",
      "1                                        214.1   \n",
      "2                                        190.8   \n",
      "3                                         68.3   \n",
      "4                                        124.8   \n",
      "\n",
      "   Population on 31.12.2022 - Foreigners (%)  \\\n",
      "0                                       18.5   \n",
      "1                                       13.6   \n",
      "2                                       12.5   \n",
      "3                                       14.2   \n",
      "4                                        7.8   \n",
      "\n",
      "   Population density on 31.12.2022 (inhabitants per km2)  \\\n",
      "0                                             1631.4        \n",
      "1                                             2087.8        \n",
      "2                                             1018.2        \n",
      "3                                             1109.4        \n",
      "4                                               94.7        \n",
      "\n",
      "   Increase (+) or decrease (-) in population in 2022 - Birth balance (per 1000 inhabitants)  \\\n",
      "0                                               -4.2                                           \n",
      "1                                               -2.9                                           \n",
      "2                                               -6.7                                           \n",
      "3                                               -7.1                                           \n",
      "4                                               -7.6                                           \n",
      "\n",
      "   ...  \\\n",
      "0  ...   \n",
      "1  ...   \n",
      "2  ...   \n",
      "3  ...   \n",
      "4  ...   \n",
      "\n",
      "   Social insurance contributions as of 30.06.2023 - Public and private service providers (%)  \\\n",
      "0                                               19.2                                            \n",
      "1                                               25.6                                            \n",
      "2                                               20.7                                            \n",
      "3                                               21.3                                            \n",
      "4                                               11.3                                            \n",
      "\n",
      "   Social insurance contributions as of 30.06.2023 - Other service providers and \"unspecified\" (%)  \\\n",
      "0                                               40.0                                                 \n",
      "1                                               39.8                                                 \n",
      "2                                               32.5                                                 \n",
      "3                                               26.6                                                 \n",
      "4                                               32.3                                                 \n",
      "\n",
      "   Recipients of benefits under SGB II in August 2023 - total (per 1000 inhabitants)  \\\n",
      "0                                              115.1                                   \n",
      "1                                              120.5                                   \n",
      "2                                              104.9                                   \n",
      "3                                              112.0                                   \n",
      "4                                               74.6                                   \n",
      "\n",
      "   Recipients of benefits under SGB II in August 2023 - Non-working individuals in need (%)  \\\n",
      "0                                               25.3                                          \n",
      "1                                               26.1                                          \n",
      "2                                               25.7                                          \n",
      "3                                               26.3                                          \n",
      "4                                               26.9                                          \n",
      "\n",
      "   Recipients of benefits under SGB II in August 2023 - Foreigners (%)  \\\n",
      "0                                               37.9                     \n",
      "1                                               41.0                     \n",
      "2                                               35.9                     \n",
      "3                                               35.6                     \n",
      "4                                               35.2                     \n",
      "\n",
      "   Unemployment rate in October 2023 - Total  \\\n",
      "0                                        7.8   \n",
      "1                                        7.5   \n",
      "2                                        7.6   \n",
      "3                                        8.2   \n",
      "4                                        5.5   \n",
      "\n",
      "   Unemployment rate in October 2023 - Men  \\\n",
      "0                                      8.4   \n",
      "1                                      7.9   \n",
      "2                                      8.1   \n",
      "3                                      8.4   \n",
      "4                                      5.8   \n",
      "\n",
      "   Unemployment rate in October 2023 - Women  \\\n",
      "0                                        7.0   \n",
      "1                                        7.1   \n",
      "2                                        7.1   \n",
      "3                                        8.0   \n",
      "4                                        5.2   \n",
      "\n",
      "   Unemployment rate in October 2023 - 15 to 24 years  \\\n",
      "0                                                6.0    \n",
      "1                                                5.3    \n",
      "2                                                6.6    \n",
      "3                                                8.0    \n",
      "4                                                5.8    \n",
      "\n",
      "   Unemployment rate in October 2023 - 55 to 64 years  \n",
      "0                                                7.5   \n",
      "1                                                7.9   \n",
      "2                                                7.6   \n",
      "3                                                7.6   \n",
      "4                                                5.2   \n",
      "\n",
      "[5 rows x 52 columns]\n"
     ]
    }
   ],
   "source": [
    "import pandas as pd\n",
    "# Make sure to read column \"District\" as a String\n",
    "df = pd.read_excel('/Users/alenslaskovs/Desktop/WHU/Database and Technology/Final One /EuropeanElections-2024/data/ew24_structure_data.xlsx',dtype={'District': str})\n",
    "print(df.head())\n"
   ]
  },
  {
   "cell_type": "markdown",
   "id": "bd79a54b-8723-4741-ade4-f4f2d939ac03",
   "metadata": {},
   "source": [
    "# Read historical data an European Elections"
   ]
  },
  {
   "cell_type": "code",
   "execution_count": 7,
   "id": "839ce02b-0cb6-4434-bf72-afb0e41a2089",
   "metadata": {},
   "outputs": [
    {
     "name": "stdout",
     "output_type": "stream",
     "text": [
      "   Election Year  Eligible Voters    Voters Postal Voters  CDUCSU - Seats  \\\n",
      "0           1979         42751940  28098872             0              40   \n",
      "1           1984         44465989  25238754             0              39   \n",
      "2           1989         45773179  28508598             0              31   \n",
      "3           1994         60473927  36295529          10,9              47   \n",
      "4           1999         60786904  27468932            14              44   \n",
      "\n",
      "   SPD - Seats  GRUENE - Seats  DIE LINKE - Seats  AFD - Seats  FDP - Seats  \\\n",
      "0           34               0                  0            0            4   \n",
      "1           32               7                  0            0            0   \n",
      "2           30               7                  0            0            4   \n",
      "3           40              12                  0            0            0   \n",
      "4           33               7                  6            0            0   \n",
      "\n",
      "   ...  CDUCSU   SPD GRUENE DIE LINKE AFD  FDP Other Parties  \\\n",
      "0  ...    49,2  40,8    3,2         0   0    6           0,8   \n",
      "1  ...    45,9  37,4    8,2         0   0  4,8           3,7   \n",
      "2  ...    37,8  37,3    8,4         0   0  5,6          10,9   \n",
      "3  ...    38,8  32,2   10,1       4,7   0  4,1          10,2   \n",
      "4  ...    48,7  30,7    6,4       5,8   0    3           5,4   \n",
      "\n",
      "  Number of Parties  Seats Germany  Total Seats  \n",
      "0                 8             78          410  \n",
      "1                13             78          434  \n",
      "2                21             78          518  \n",
      "3                25             99          567  \n",
      "4                22             90          626  \n",
      "\n",
      "[5 rows x 21 columns]\n"
     ]
    }
   ],
   "source": [
    "import pandas as pd\n",
    "\n",
    "# Replace 'file.csv' with the path to your CSV file\n",
    "df = pd.read_csv('/Users/alenslaskovs/Desktop/WHU/Database and Technology/Final One /EuropeanElections-2024/data/ew_79_24.csv',sep=\";\")\n",
    "\n",
    "# Display the first few rows of the DataFrame\n",
    "print(df.head())"
   ]
  },
  {
   "cell_type": "markdown",
   "id": "7a49bfbc-5369-4124-8857-1b992d540cde",
   "metadata": {},
   "source": [
    "# Read 2024 EU Election Resultions per District (Number of votes per party and distrct)"
   ]
  },
  {
   "cell_type": "code",
   "execution_count": 8,
   "id": "153e8b66-d55f-4fcc-93e8-253de39e8952",
   "metadata": {},
   "outputs": [
    {
     "name": "stdout",
     "output_type": "stream",
     "text": [
      "  Land District                    Name  Eligible Voters  Voters  Invalid  \\\n",
      "0   SH    01001        Flensburg, Stadt            70431   39647      237   \n",
      "1   SH    01002  Kiel, Landeshauptstadt           186195  109595      577   \n",
      "2   SH    01003      Lübeck, Hansestadt           166530   90946      461   \n",
      "3   SH    01004       Neumünster, Stadt            60215   29036      231   \n",
      "4   SH    01051            Dithmarschen           107045   58244      475   \n",
      "\n",
      "    Valid    CDU  GRÜNE    SPD  ...  MENSCHLICHE WELT  LIEBE  DIE VIOLETTEN  \\\n",
      "0   39410   6829  14603   5676  ...                40     38             40   \n",
      "1  109018  18311  40324  17911  ...                99     71             84   \n",
      "2   90485  18416  28633  17566  ...                68     97             78   \n",
      "3   28805   7039   7809   5286  ...                17     28             21   \n",
      "4   57769  17955  12121  10294  ...                54     65             47   \n",
      "\n",
      "   DIE DIREKTE!  DIE RECHTE  DKP  MLPD  NL  III. Weg  SGP  \n",
      "0            33          19   14    13  24         7   15  \n",
      "1            64          37   68    42  62         9   12  \n",
      "2            56          40   49    40  54        13    6  \n",
      "3            25          12   11     9  14         6    3  \n",
      "4            32          38   22    13  23        13   12  \n",
      "\n",
      "[5 rows x 48 columns]\n"
     ]
    }
   ],
   "source": [
    "import pandas as pd\n",
    "\n",
    "# Replace 'file.csv' with the path to your CSV file\n",
    "df_votes = pd.read_csv('/Users/alenslaskovs/Desktop/WHU/Database and Technology/Final One /EuropeanElections-2024/data/ewkr24_umrechnung_ew19.csv',sep=\";\",dtype={'District': str})\n",
    "\n",
    "# Display the first few rows of the DataFrame\n",
    "print(df_votes.head())"
   ]
  },
  {
   "cell_type": "markdown",
   "id": "cb87a7ca-0226-4a31-9c57-5e379c3f5b53",
   "metadata": {},
   "source": [
    "# Vizualize Geographic Data"
   ]
  },
  {
   "cell_type": "markdown",
   "id": "690e270a-09e8-4803-aa6d-8170a0b7d57f",
   "metadata": {},
   "source": [
    "To display election data, you don't need postal codes but rather the area numbers. You can find these geographic data here:\n",
    "\n",
    "https://gdz.bkg.bund.de/index.php/default/verwaltungsgebiete-1-2-500-000-stand-31-12-vg2500-12-31.html\n",
    "\n",
    "Download the data in the GK3 format. You will also find documentation in the download. All files are also provided in the materials folder\n",
    "\n",
    "VG2500_KRS.shp / .dbf / .cpg / .prj / .shx"
   ]
  },
  {
   "cell_type": "code",
   "execution_count": 9,
   "id": "67aee3c7-0117-4de0-b4a8-746b89827af8",
   "metadata": {},
   "outputs": [
    {
     "name": "stdout",
     "output_type": "stream",
     "text": [
      "Requirement already satisfied: geopandas in /opt/anaconda3/lib/python3.13/site-packages (1.1.1)\n",
      "Requirement already satisfied: numpy>=1.24 in /opt/anaconda3/lib/python3.13/site-packages (from geopandas) (2.1.3)\n",
      "Requirement already satisfied: pyogrio>=0.7.2 in /opt/anaconda3/lib/python3.13/site-packages (from geopandas) (0.11.1)\n",
      "Requirement already satisfied: packaging in /opt/anaconda3/lib/python3.13/site-packages (from geopandas) (24.2)\n",
      "Requirement already satisfied: pandas>=2.0.0 in /opt/anaconda3/lib/python3.13/site-packages (from geopandas) (2.2.3)\n",
      "Requirement already satisfied: pyproj>=3.5.0 in /opt/anaconda3/lib/python3.13/site-packages (from geopandas) (3.7.2)\n",
      "Requirement already satisfied: shapely>=2.0.0 in /opt/anaconda3/lib/python3.13/site-packages (from geopandas) (2.1.1)\n",
      "Requirement already satisfied: python-dateutil>=2.8.2 in /opt/anaconda3/lib/python3.13/site-packages (from pandas>=2.0.0->geopandas) (2.9.0.post0)\n",
      "Requirement already satisfied: pytz>=2020.1 in /opt/anaconda3/lib/python3.13/site-packages (from pandas>=2.0.0->geopandas) (2024.1)\n",
      "Requirement already satisfied: tzdata>=2022.7 in /opt/anaconda3/lib/python3.13/site-packages (from pandas>=2.0.0->geopandas) (2025.2)\n",
      "Requirement already satisfied: certifi in /opt/anaconda3/lib/python3.13/site-packages (from pyogrio>=0.7.2->geopandas) (2025.8.3)\n",
      "Requirement already satisfied: six>=1.5 in /opt/anaconda3/lib/python3.13/site-packages (from python-dateutil>=2.8.2->pandas>=2.0.0->geopandas) (1.17.0)\n"
     ]
    }
   ],
   "source": [
    "!pip install geopandas"
   ]
  },
  {
   "cell_type": "code",
   "execution_count": 10,
   "id": "d4fc7652-691e-4bf0-b96a-2c5b79df4432",
   "metadata": {},
   "outputs": [
    {
     "name": "stdout",
     "output_type": "stream",
     "text": [
      "Requirement already satisfied: matplotlib in /opt/anaconda3/lib/python3.13/site-packages (3.10.0)\n",
      "Requirement already satisfied: contourpy>=1.0.1 in /opt/anaconda3/lib/python3.13/site-packages (from matplotlib) (1.3.1)\n",
      "Requirement already satisfied: cycler>=0.10 in /opt/anaconda3/lib/python3.13/site-packages (from matplotlib) (0.11.0)\n",
      "Requirement already satisfied: fonttools>=4.22.0 in /opt/anaconda3/lib/python3.13/site-packages (from matplotlib) (4.55.3)\n",
      "Requirement already satisfied: kiwisolver>=1.3.1 in /opt/anaconda3/lib/python3.13/site-packages (from matplotlib) (1.4.8)\n",
      "Requirement already satisfied: numpy>=1.23 in /opt/anaconda3/lib/python3.13/site-packages (from matplotlib) (2.1.3)\n",
      "Requirement already satisfied: packaging>=20.0 in /opt/anaconda3/lib/python3.13/site-packages (from matplotlib) (24.2)\n",
      "Requirement already satisfied: pillow>=8 in /opt/anaconda3/lib/python3.13/site-packages (from matplotlib) (11.1.0)\n",
      "Requirement already satisfied: pyparsing>=2.3.1 in /opt/anaconda3/lib/python3.13/site-packages (from matplotlib) (3.2.0)\n",
      "Requirement already satisfied: python-dateutil>=2.7 in /opt/anaconda3/lib/python3.13/site-packages (from matplotlib) (2.9.0.post0)\n",
      "Requirement already satisfied: six>=1.5 in /opt/anaconda3/lib/python3.13/site-packages (from python-dateutil>=2.7->matplotlib) (1.17.0)\n"
     ]
    }
   ],
   "source": [
    "!pip install matplotlib"
   ]
  },
  {
   "cell_type": "code",
   "execution_count": 11,
   "id": "2de04070-9fbe-4422-bd8d-42c2aa30ddd9",
   "metadata": {},
   "outputs": [
    {
     "ename": "DataSourceError",
     "evalue": "VG2500_KRS.shp: No such file or directory",
     "output_type": "error",
     "traceback": [
      "\u001b[0;31m---------------------------------------------------------------------------\u001b[0m",
      "\u001b[0;31mDataSourceError\u001b[0m                           Traceback (most recent call last)",
      "Cell \u001b[0;32mIn[11], line 5\u001b[0m\n\u001b[1;32m      2\u001b[0m \u001b[38;5;28;01mimport\u001b[39;00m\u001b[38;5;250m \u001b[39m\u001b[38;5;21;01mmatplotlib\u001b[39;00m\u001b[38;5;21;01m.\u001b[39;00m\u001b[38;5;21;01mpyplot\u001b[39;00m\u001b[38;5;250m \u001b[39m\u001b[38;5;28;01mas\u001b[39;00m\u001b[38;5;250m \u001b[39m\u001b[38;5;21;01mplt\u001b[39;00m\n\u001b[1;32m      4\u001b[0m shapefile_path \u001b[38;5;241m=\u001b[39m \u001b[38;5;124m'\u001b[39m\u001b[38;5;124mVG2500_KRS.shp\u001b[39m\u001b[38;5;124m'\u001b[39m\n\u001b[0;32m----> 5\u001b[0m districts \u001b[38;5;241m=\u001b[39m gpd\u001b[38;5;241m.\u001b[39mread_file(shapefile_path)\n\u001b[1;32m      7\u001b[0m fig, ax \u001b[38;5;241m=\u001b[39m plt\u001b[38;5;241m.\u001b[39msubplots(figsize\u001b[38;5;241m=\u001b[39m(\u001b[38;5;241m10\u001b[39m, \u001b[38;5;241m15\u001b[39m))\n\u001b[1;32m      8\u001b[0m districts\u001b[38;5;241m.\u001b[39mplot(ax\u001b[38;5;241m=\u001b[39max, color\u001b[38;5;241m=\u001b[39m\u001b[38;5;124m'\u001b[39m\u001b[38;5;124mwhite\u001b[39m\u001b[38;5;124m'\u001b[39m, edgecolor\u001b[38;5;241m=\u001b[39m\u001b[38;5;124m'\u001b[39m\u001b[38;5;124mblack\u001b[39m\u001b[38;5;124m'\u001b[39m)\n",
      "File \u001b[0;32m/opt/anaconda3/lib/python3.13/site-packages/geopandas/io/file.py:316\u001b[0m, in \u001b[0;36m_read_file\u001b[0;34m(filename, bbox, mask, columns, rows, engine, **kwargs)\u001b[0m\n\u001b[1;32m    313\u001b[0m             filename \u001b[38;5;241m=\u001b[39m response\u001b[38;5;241m.\u001b[39mread()\n\u001b[1;32m    315\u001b[0m \u001b[38;5;28;01mif\u001b[39;00m engine \u001b[38;5;241m==\u001b[39m \u001b[38;5;124m\"\u001b[39m\u001b[38;5;124mpyogrio\u001b[39m\u001b[38;5;124m\"\u001b[39m:\n\u001b[0;32m--> 316\u001b[0m     \u001b[38;5;28;01mreturn\u001b[39;00m _read_file_pyogrio(\n\u001b[1;32m    317\u001b[0m         filename, bbox\u001b[38;5;241m=\u001b[39mbbox, mask\u001b[38;5;241m=\u001b[39mmask, columns\u001b[38;5;241m=\u001b[39mcolumns, rows\u001b[38;5;241m=\u001b[39mrows, \u001b[38;5;241m*\u001b[39m\u001b[38;5;241m*\u001b[39mkwargs\n\u001b[1;32m    318\u001b[0m     )\n\u001b[1;32m    320\u001b[0m \u001b[38;5;28;01melif\u001b[39;00m engine \u001b[38;5;241m==\u001b[39m \u001b[38;5;124m\"\u001b[39m\u001b[38;5;124mfiona\u001b[39m\u001b[38;5;124m\"\u001b[39m:\n\u001b[1;32m    321\u001b[0m     \u001b[38;5;28;01mif\u001b[39;00m pd\u001b[38;5;241m.\u001b[39mapi\u001b[38;5;241m.\u001b[39mtypes\u001b[38;5;241m.\u001b[39mis_file_like(filename):\n",
      "File \u001b[0;32m/opt/anaconda3/lib/python3.13/site-packages/geopandas/io/file.py:576\u001b[0m, in \u001b[0;36m_read_file_pyogrio\u001b[0;34m(path_or_bytes, bbox, mask, rows, **kwargs)\u001b[0m\n\u001b[1;32m    567\u001b[0m     warnings\u001b[38;5;241m.\u001b[39mwarn(\n\u001b[1;32m    568\u001b[0m         \u001b[38;5;124m\"\u001b[39m\u001b[38;5;124mThe \u001b[39m\u001b[38;5;124m'\u001b[39m\u001b[38;5;124minclude_fields\u001b[39m\u001b[38;5;124m'\u001b[39m\u001b[38;5;124m and \u001b[39m\u001b[38;5;124m'\u001b[39m\u001b[38;5;124mignore_fields\u001b[39m\u001b[38;5;124m'\u001b[39m\u001b[38;5;124m keywords are deprecated, and \u001b[39m\u001b[38;5;124m\"\u001b[39m\n\u001b[1;32m    569\u001b[0m         \u001b[38;5;124m\"\u001b[39m\u001b[38;5;124mwill be removed in a future release. You can use the \u001b[39m\u001b[38;5;124m'\u001b[39m\u001b[38;5;124mcolumns\u001b[39m\u001b[38;5;124m'\u001b[39m\u001b[38;5;124m keyword \u001b[39m\u001b[38;5;124m\"\u001b[39m\n\u001b[0;32m   (...)\u001b[0m\n\u001b[1;32m    572\u001b[0m         stacklevel\u001b[38;5;241m=\u001b[39m\u001b[38;5;241m3\u001b[39m,\n\u001b[1;32m    573\u001b[0m     )\n\u001b[1;32m    574\u001b[0m     kwargs[\u001b[38;5;124m\"\u001b[39m\u001b[38;5;124mcolumns\u001b[39m\u001b[38;5;124m\"\u001b[39m] \u001b[38;5;241m=\u001b[39m kwargs\u001b[38;5;241m.\u001b[39mpop(\u001b[38;5;124m\"\u001b[39m\u001b[38;5;124minclude_fields\u001b[39m\u001b[38;5;124m\"\u001b[39m)\n\u001b[0;32m--> 576\u001b[0m \u001b[38;5;28;01mreturn\u001b[39;00m pyogrio\u001b[38;5;241m.\u001b[39mread_dataframe(path_or_bytes, bbox\u001b[38;5;241m=\u001b[39mbbox, \u001b[38;5;241m*\u001b[39m\u001b[38;5;241m*\u001b[39mkwargs)\n",
      "File \u001b[0;32m/opt/anaconda3/lib/python3.13/site-packages/pyogrio/geopandas.py:275\u001b[0m, in \u001b[0;36mread_dataframe\u001b[0;34m(path_or_buffer, layer, encoding, columns, read_geometry, force_2d, skip_features, max_features, where, bbox, mask, fids, sql, sql_dialect, fid_as_index, use_arrow, on_invalid, arrow_to_pandas_kwargs, **kwargs)\u001b[0m\n\u001b[1;32m    270\u001b[0m \u001b[38;5;28;01mif\u001b[39;00m \u001b[38;5;129;01mnot\u001b[39;00m use_arrow:\n\u001b[1;32m    271\u001b[0m     \u001b[38;5;66;03m# For arrow, datetimes are read as is.\u001b[39;00m\n\u001b[1;32m    272\u001b[0m     \u001b[38;5;66;03m# For numpy IO, datetimes are read as string values to preserve timezone info\u001b[39;00m\n\u001b[1;32m    273\u001b[0m     \u001b[38;5;66;03m# as numpy does not directly support timezones.\u001b[39;00m\n\u001b[1;32m    274\u001b[0m     kwargs[\u001b[38;5;124m\"\u001b[39m\u001b[38;5;124mdatetime_as_string\u001b[39m\u001b[38;5;124m\"\u001b[39m] \u001b[38;5;241m=\u001b[39m \u001b[38;5;28;01mTrue\u001b[39;00m\n\u001b[0;32m--> 275\u001b[0m result \u001b[38;5;241m=\u001b[39m read_func(\n\u001b[1;32m    276\u001b[0m     path_or_buffer,\n\u001b[1;32m    277\u001b[0m     layer\u001b[38;5;241m=\u001b[39mlayer,\n\u001b[1;32m    278\u001b[0m     encoding\u001b[38;5;241m=\u001b[39mencoding,\n\u001b[1;32m    279\u001b[0m     columns\u001b[38;5;241m=\u001b[39mcolumns,\n\u001b[1;32m    280\u001b[0m     read_geometry\u001b[38;5;241m=\u001b[39mread_geometry,\n\u001b[1;32m    281\u001b[0m     force_2d\u001b[38;5;241m=\u001b[39mgdal_force_2d,\n\u001b[1;32m    282\u001b[0m     skip_features\u001b[38;5;241m=\u001b[39mskip_features,\n\u001b[1;32m    283\u001b[0m     max_features\u001b[38;5;241m=\u001b[39mmax_features,\n\u001b[1;32m    284\u001b[0m     where\u001b[38;5;241m=\u001b[39mwhere,\n\u001b[1;32m    285\u001b[0m     bbox\u001b[38;5;241m=\u001b[39mbbox,\n\u001b[1;32m    286\u001b[0m     mask\u001b[38;5;241m=\u001b[39mmask,\n\u001b[1;32m    287\u001b[0m     fids\u001b[38;5;241m=\u001b[39mfids,\n\u001b[1;32m    288\u001b[0m     sql\u001b[38;5;241m=\u001b[39msql,\n\u001b[1;32m    289\u001b[0m     sql_dialect\u001b[38;5;241m=\u001b[39msql_dialect,\n\u001b[1;32m    290\u001b[0m     return_fids\u001b[38;5;241m=\u001b[39mfid_as_index,\n\u001b[1;32m    291\u001b[0m     \u001b[38;5;241m*\u001b[39m\u001b[38;5;241m*\u001b[39mkwargs,\n\u001b[1;32m    292\u001b[0m )\n\u001b[1;32m    294\u001b[0m \u001b[38;5;28;01mif\u001b[39;00m use_arrow:\n\u001b[1;32m    295\u001b[0m     \u001b[38;5;28;01mimport\u001b[39;00m\u001b[38;5;250m \u001b[39m\u001b[38;5;21;01mpyarrow\u001b[39;00m\u001b[38;5;250m \u001b[39m\u001b[38;5;28;01mas\u001b[39;00m\u001b[38;5;250m \u001b[39m\u001b[38;5;21;01mpa\u001b[39;00m\n",
      "File \u001b[0;32m/opt/anaconda3/lib/python3.13/site-packages/pyogrio/raw.py:198\u001b[0m, in \u001b[0;36mread\u001b[0;34m(path_or_buffer, layer, encoding, columns, read_geometry, force_2d, skip_features, max_features, where, bbox, mask, fids, sql, sql_dialect, return_fids, datetime_as_string, **kwargs)\u001b[0m\n\u001b[1;32m     59\u001b[0m \u001b[38;5;250m\u001b[39m\u001b[38;5;124;03m\"\"\"Read OGR data source into numpy arrays.\u001b[39;00m\n\u001b[1;32m     60\u001b[0m \n\u001b[1;32m     61\u001b[0m \u001b[38;5;124;03mIMPORTANT: non-linear geometry types (e.g., MultiSurface) are converted\u001b[39;00m\n\u001b[0;32m   (...)\u001b[0m\n\u001b[1;32m    194\u001b[0m \n\u001b[1;32m    195\u001b[0m \u001b[38;5;124;03m\"\"\"\u001b[39;00m\n\u001b[1;32m    196\u001b[0m dataset_kwargs \u001b[38;5;241m=\u001b[39m _preprocess_options_key_value(kwargs) \u001b[38;5;28;01mif\u001b[39;00m kwargs \u001b[38;5;28;01melse\u001b[39;00m {}\n\u001b[0;32m--> 198\u001b[0m \u001b[38;5;28;01mreturn\u001b[39;00m ogr_read(\n\u001b[1;32m    199\u001b[0m     get_vsi_path_or_buffer(path_or_buffer),\n\u001b[1;32m    200\u001b[0m     layer\u001b[38;5;241m=\u001b[39mlayer,\n\u001b[1;32m    201\u001b[0m     encoding\u001b[38;5;241m=\u001b[39mencoding,\n\u001b[1;32m    202\u001b[0m     columns\u001b[38;5;241m=\u001b[39mcolumns,\n\u001b[1;32m    203\u001b[0m     read_geometry\u001b[38;5;241m=\u001b[39mread_geometry,\n\u001b[1;32m    204\u001b[0m     force_2d\u001b[38;5;241m=\u001b[39mforce_2d,\n\u001b[1;32m    205\u001b[0m     skip_features\u001b[38;5;241m=\u001b[39mskip_features,\n\u001b[1;32m    206\u001b[0m     max_features\u001b[38;5;241m=\u001b[39mmax_features \u001b[38;5;129;01mor\u001b[39;00m \u001b[38;5;241m0\u001b[39m,\n\u001b[1;32m    207\u001b[0m     where\u001b[38;5;241m=\u001b[39mwhere,\n\u001b[1;32m    208\u001b[0m     bbox\u001b[38;5;241m=\u001b[39mbbox,\n\u001b[1;32m    209\u001b[0m     mask\u001b[38;5;241m=\u001b[39m_mask_to_wkb(mask),\n\u001b[1;32m    210\u001b[0m     fids\u001b[38;5;241m=\u001b[39mfids,\n\u001b[1;32m    211\u001b[0m     sql\u001b[38;5;241m=\u001b[39msql,\n\u001b[1;32m    212\u001b[0m     sql_dialect\u001b[38;5;241m=\u001b[39msql_dialect,\n\u001b[1;32m    213\u001b[0m     return_fids\u001b[38;5;241m=\u001b[39mreturn_fids,\n\u001b[1;32m    214\u001b[0m     dataset_kwargs\u001b[38;5;241m=\u001b[39mdataset_kwargs,\n\u001b[1;32m    215\u001b[0m     datetime_as_string\u001b[38;5;241m=\u001b[39mdatetime_as_string,\n\u001b[1;32m    216\u001b[0m )\n",
      "File \u001b[0;32mpyogrio/_io.pyx:1313\u001b[0m, in \u001b[0;36mpyogrio._io.ogr_read\u001b[0;34m()\u001b[0m\n",
      "File \u001b[0;32mpyogrio/_io.pyx:232\u001b[0m, in \u001b[0;36mpyogrio._io.ogr_open\u001b[0;34m()\u001b[0m\n",
      "\u001b[0;31mDataSourceError\u001b[0m: VG2500_KRS.shp: No such file or directory"
     ]
    }
   ],
   "source": [
    "import geopandas as gpd\n",
    "import matplotlib.pyplot as plt\n",
    "\n",
    "shapefile_path = 'VG2500_KRS.shp'\n",
    "districts = gpd.read_file(shapefile_path)\n",
    "\n",
    "fig, ax = plt.subplots(figsize=(10, 15))\n",
    "districts.plot(ax=ax, color='white', edgecolor='black')\n",
    "\n",
    "for x, y, label in zip(districts.geometry.centroid.x, districts.geometry.centroid.y, districts['AGS']):\n",
    "    ax.text(x, y, label, fontsize=8, ha='center', va='center')\n",
    "\n",
    "ax.set_title('Districts in Germany')\n",
    "plt.show()"
   ]
  },
  {
   "cell_type": "markdown",
   "id": "ed235207-5f07-40e2-912d-847e4aec2928",
   "metadata": {},
   "source": [
    "# Join Geodata and votes"
   ]
  },
  {
   "cell_type": "code",
   "execution_count": null,
   "id": "052bb604-595d-4969-abc1-bf7899aae654",
   "metadata": {},
   "outputs": [],
   "source": [
    "districts.head()"
   ]
  },
  {
   "cell_type": "code",
   "execution_count": null,
   "id": "f2d30032-7390-4a98-a90e-e1d21e909717",
   "metadata": {},
   "outputs": [],
   "source": [
    "df_votes"
   ]
  },
  {
   "cell_type": "code",
   "execution_count": null,
   "id": "e0006dda-f66e-4830-af1b-e3ecb074eb21",
   "metadata": {},
   "outputs": [],
   "source": [
    "df_district_votes_spd = pd.merge(districts, df_votes[['District', 'SPD']], left_on='AGS', right_on='District', how='left')\n",
    "\n",
    "# Display the result\n",
    "print(df_district_votes_spd)"
   ]
  },
  {
   "cell_type": "code",
   "execution_count": null,
   "id": "42a43001-75ab-40a5-b283-6ad34a09e30b",
   "metadata": {},
   "outputs": [],
   "source": [
    "df_district_votes_spd[[\"AGS\",\"District\",\"SPD\"]]\n"
   ]
  },
  {
   "cell_type": "code",
   "execution_count": null,
   "id": "3e0f1c20-87e8-4859-b3d5-e6ad469f66ab",
   "metadata": {},
   "outputs": [],
   "source": [
    "# Plotting the GeoDataFrame with a color map, but grayscale doesn't work\n",
    "ax = df_district_votes_spd.plot(column='SPD', cmap='Greys', linewidth=0.8, edgecolor='0.8', legend=True)\n",
    "\n",
    "ax.set_title(\"Map of SPD Voters\")\n",
    "ax.set_axis_off()\n",
    "plt.show()"
   ]
  },
  {
   "cell_type": "markdown",
   "id": "c1b3ef6b-b96c-4dfd-ae07-a842926bc39b",
   "metadata": {},
   "source": [
    "## Scale the numbers and use a different colormap"
   ]
  },
  {
   "cell_type": "code",
   "execution_count": null,
   "id": "79313265-6ee8-4236-ae99-b0b4dad37eb0",
   "metadata": {},
   "outputs": [],
   "source": [
    "!pip install scikit-learn"
   ]
  },
  {
   "cell_type": "code",
   "execution_count": null,
   "id": "025f073a-fe36-456a-a792-f4d7084a0473",
   "metadata": {},
   "outputs": [],
   "source": [
    "from sklearn.preprocessing import MinMaxScaler\n",
    "scaler = MinMaxScaler()\n",
    "df_district_votes_spd['SPD_normalized'] = scaler.fit_transform(df_district_votes_spd[['SPD']])\n",
    "\n",
    "# Display the DataFrame with the new normalized column\n",
    "print(df_district_votes_spd[['AGS', 'District', 'SPD', 'SPD_normalized']])"
   ]
  },
  {
   "cell_type": "code",
   "execution_count": null,
   "id": "6592aadf-afe4-428b-a877-694d4fab88b8",
   "metadata": {},
   "outputs": [],
   "source": [
    "from matplotlib.colors import LinearSegmentedColormap, Normalize\n",
    "import matplotlib.colors as mcolors\n",
    "import numpy as np\n",
    "\n",
    "norm = Normalize(vmin=df_district_votes_spd['SPD_normalized'].min(), vmax=df_district_votes_spd['SPD_normalized'].max())\n",
    "ax = df_district_votes_spd.plot(column='SPD_normalized', \n",
    "    cmap= LinearSegmentedColormap.from_list('color_spd', ['#fff', '#e3000f'], N=1000), \n",
    "    linewidth=0.8, edgecolor='0.8', \n",
    "    norm=norm, legend=True,\n",
    "    )\n",
    "\n",
    "ax.set_title(\"Normalized SPD Values\")\n",
    "ax.set_axis_off()\n",
    "plt.show()"
   ]
  },
  {
   "cell_type": "markdown",
   "id": "b44d7971-2cbe-415d-a07e-723679e1c77e",
   "metadata": {},
   "source": [
    "... or maybe not absolute numbers put percentage of voters are better to visualize?"
   ]
  }
 ],
 "metadata": {
  "kernelspec": {
   "display_name": "Python [conda env:base] *",
   "language": "python",
   "name": "conda-base-py"
  },
  "language_info": {
   "codemirror_mode": {
    "name": "ipython",
    "version": 3
   },
   "file_extension": ".py",
   "mimetype": "text/x-python",
   "name": "python",
   "nbconvert_exporter": "python",
   "pygments_lexer": "ipython3",
   "version": "3.13.5"
  }
 },
 "nbformat": 4,
 "nbformat_minor": 5
}
