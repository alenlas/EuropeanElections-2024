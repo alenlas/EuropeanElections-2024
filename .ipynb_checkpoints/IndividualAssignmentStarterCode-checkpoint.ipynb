{
 "cells": [
  {
   "cell_type": "markdown",
   "id": "072e6c27-84d1-4120-88d6-493c9cf7a1c4",
   "metadata": {},
   "source": [
    "# Assignment Starter Code"
   ]
  },
  {
   "cell_type": "markdown",
   "id": "951fd4f2-7bbc-42e1-9c8b-73364e47ab56",
   "metadata": {},
   "source": [
    "# Read structural data per district"
   ]
  },
  {
   "cell_type": "code",
   "execution_count": null,
   "id": "838a7178-8a14-4494-af19-184b5aafdc9d",
   "metadata": {},
   "outputs": [],
   "source": [
    "!pip install openpyxl"
   ]
  },
  {
   "cell_type": "code",
   "execution_count": null,
   "id": "680a3846-2b26-4a3e-8499-3610a7bc03d0",
   "metadata": {},
   "outputs": [],
   "source": [
    "import pandas as pd\n",
    "# Make sure to read column \"District\" as a String\n",
    "df = pd.read_excel('ew24_structure_data.xlsx',dtype={'District': str})\n",
    "print(df.head())\n"
   ]
  },
  {
   "cell_type": "markdown",
   "id": "bd79a54b-8723-4741-ade4-f4f2d939ac03",
   "metadata": {},
   "source": [
    "# Read historical data an European Elections"
   ]
  },
  {
   "cell_type": "code",
   "execution_count": null,
   "id": "839ce02b-0cb6-4434-bf72-afb0e41a2089",
   "metadata": {},
   "outputs": [],
   "source": [
    "import pandas as pd\n",
    "\n",
    "# Replace 'file.csv' with the path to your CSV file\n",
    "df = pd.read_csv('ew_79_24.csv',sep=\";\")\n",
    "\n",
    "# Display the first few rows of the DataFrame\n",
    "print(df.head())"
   ]
  },
  {
   "cell_type": "markdown",
   "id": "7a49bfbc-5369-4124-8857-1b992d540cde",
   "metadata": {},
   "source": [
    "# Read 2024 EU Election Resultions per District (Number of votes per party and distrct)"
   ]
  },
  {
   "cell_type": "code",
   "execution_count": null,
   "id": "153e8b66-d55f-4fcc-93e8-253de39e8952",
   "metadata": {},
   "outputs": [],
   "source": [
    "import pandas as pd\n",
    "\n",
    "# Replace 'file.csv' with the path to your CSV file\n",
    "df_votes = pd.read_csv('ewkr24_umrechnung_ew19.csv',sep=\";\",dtype={'District': str})\n",
    "\n",
    "# Display the first few rows of the DataFrame\n",
    "print(df_votes.head())"
   ]
  },
  {
   "cell_type": "markdown",
   "id": "cb87a7ca-0226-4a31-9c57-5e379c3f5b53",
   "metadata": {},
   "source": [
    "# Vizualize Geographic Data"
   ]
  },
  {
   "cell_type": "markdown",
   "id": "690e270a-09e8-4803-aa6d-8170a0b7d57f",
   "metadata": {},
   "source": [
    "To display election data, you don't need postal codes but rather the area numbers. You can find these geographic data here:\n",
    "\n",
    "https://gdz.bkg.bund.de/index.php/default/verwaltungsgebiete-1-2-500-000-stand-31-12-vg2500-12-31.html\n",
    "\n",
    "Download the data in the GK3 format. You will also find documentation in the download. All files are also provided in the materials folder\n",
    "\n",
    "VG2500_KRS.shp / .dbf / .cpg / .prj / .shx"
   ]
  },
  {
   "cell_type": "code",
   "execution_count": null,
   "id": "67aee3c7-0117-4de0-b4a8-746b89827af8",
   "metadata": {},
   "outputs": [],
   "source": [
    "!pip install geopandas"
   ]
  },
  {
   "cell_type": "code",
   "execution_count": null,
   "id": "d4fc7652-691e-4bf0-b96a-2c5b79df4432",
   "metadata": {},
   "outputs": [],
   "source": [
    "!pip install matplotlib"
   ]
  },
  {
   "cell_type": "code",
   "execution_count": null,
   "id": "2de04070-9fbe-4422-bd8d-42c2aa30ddd9",
   "metadata": {},
   "outputs": [],
   "source": [
    "import geopandas as gpd\n",
    "import matplotlib.pyplot as plt\n",
    "\n",
    "shapefile_path = 'VG2500_KRS.shp'\n",
    "districts = gpd.read_file(shapefile_path)\n",
    "\n",
    "fig, ax = plt.subplots(figsize=(10, 15))\n",
    "districts.plot(ax=ax, color='white', edgecolor='black')\n",
    "\n",
    "for x, y, label in zip(districts.geometry.centroid.x, districts.geometry.centroid.y, districts['AGS']):\n",
    "    ax.text(x, y, label, fontsize=8, ha='center', va='center')\n",
    "\n",
    "ax.set_title('Districts in Germany')\n",
    "plt.show()"
   ]
  },
  {
   "cell_type": "markdown",
   "id": "ed235207-5f07-40e2-912d-847e4aec2928",
   "metadata": {},
   "source": [
    "# Join Geodata and votes"
   ]
  },
  {
   "cell_type": "code",
   "execution_count": null,
   "id": "052bb604-595d-4969-abc1-bf7899aae654",
   "metadata": {},
   "outputs": [],
   "source": [
    "districts.head()"
   ]
  },
  {
   "cell_type": "code",
   "execution_count": null,
   "id": "f2d30032-7390-4a98-a90e-e1d21e909717",
   "metadata": {},
   "outputs": [],
   "source": [
    "df_votes"
   ]
  },
  {
   "cell_type": "code",
   "execution_count": null,
   "id": "e0006dda-f66e-4830-af1b-e3ecb074eb21",
   "metadata": {},
   "outputs": [],
   "source": [
    "df_district_votes_spd = pd.merge(districts, df_votes[['District', 'SPD']], left_on='AGS', right_on='District', how='left')\n",
    "\n",
    "# Display the result\n",
    "print(df_district_votes_spd)"
   ]
  },
  {
   "cell_type": "code",
   "execution_count": null,
   "id": "42a43001-75ab-40a5-b283-6ad34a09e30b",
   "metadata": {},
   "outputs": [],
   "source": [
    "df_district_votes_spd[[\"AGS\",\"District\",\"SPD\"]]\n"
   ]
  },
  {
   "cell_type": "code",
   "execution_count": null,
   "id": "3e0f1c20-87e8-4859-b3d5-e6ad469f66ab",
   "metadata": {},
   "outputs": [],
   "source": [
    "# Plotting the GeoDataFrame with a color map, but grayscale doesn't work\n",
    "ax = df_district_votes_spd.plot(column='SPD', cmap='Greys', linewidth=0.8, edgecolor='0.8', legend=True)\n",
    "\n",
    "ax.set_title(\"Map of SPD Voters\")\n",
    "ax.set_axis_off()\n",
    "plt.show()"
   ]
  },
  {
   "cell_type": "markdown",
   "id": "c1b3ef6b-b96c-4dfd-ae07-a842926bc39b",
   "metadata": {},
   "source": [
    "## Scale the numbers and use a different colormap"
   ]
  },
  {
   "cell_type": "code",
   "execution_count": null,
   "id": "79313265-6ee8-4236-ae99-b0b4dad37eb0",
   "metadata": {},
   "outputs": [],
   "source": [
    "!pip install scikit-learn"
   ]
  },
  {
   "cell_type": "code",
   "execution_count": null,
   "id": "025f073a-fe36-456a-a792-f4d7084a0473",
   "metadata": {},
   "outputs": [],
   "source": [
    "from sklearn.preprocessing import MinMaxScaler\n",
    "scaler = MinMaxScaler()\n",
    "df_district_votes_spd['SPD_normalized'] = scaler.fit_transform(df_district_votes_spd[['SPD']])\n",
    "\n",
    "# Display the DataFrame with the new normalized column\n",
    "print(df_district_votes_spd[['AGS', 'District', 'SPD', 'SPD_normalized']])"
   ]
  },
  {
   "cell_type": "code",
   "execution_count": null,
   "id": "6592aadf-afe4-428b-a877-694d4fab88b8",
   "metadata": {},
   "outputs": [],
   "source": [
    "from matplotlib.colors import LinearSegmentedColormap, Normalize\n",
    "import matplotlib.colors as mcolors\n",
    "import numpy as np\n",
    "\n",
    "norm = Normalize(vmin=df_district_votes_spd['SPD_normalized'].min(), vmax=df_district_votes_spd['SPD_normalized'].max())\n",
    "ax = df_district_votes_spd.plot(column='SPD_normalized', \n",
    "    cmap= LinearSegmentedColormap.from_list('color_spd', ['#fff', '#e3000f'], N=1000), \n",
    "    linewidth=0.8, edgecolor='0.8', \n",
    "    norm=norm, legend=True,\n",
    "    )\n",
    "\n",
    "ax.set_title(\"Normalized SPD Values\")\n",
    "ax.set_axis_off()\n",
    "plt.show()"
   ]
  },
  {
   "cell_type": "markdown",
   "id": "b44d7971-2cbe-415d-a07e-723679e1c77e",
   "metadata": {},
   "source": [
    "... or maybe not absolute numbers put percentage of voters are better to visualize?"
   ]
  }
 ],
 "metadata": {
  "kernelspec": {
   "display_name": "Python [conda env:internet2025] *",
   "language": "python",
   "name": "conda-env-internet2025-py"
  },
  "language_info": {
   "codemirror_mode": {
    "name": "ipython",
    "version": 3
   },
   "file_extension": ".py",
   "mimetype": "text/x-python",
   "name": "python",
   "nbconvert_exporter": "python",
   "pygments_lexer": "ipython3",
   "version": "3.10.18"
  }
 },
 "nbformat": 4,
 "nbformat_minor": 5
}
